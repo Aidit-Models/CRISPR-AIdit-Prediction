{
 "cells": [
  {
   "cell_type": "markdown",
   "metadata": {},
   "source": [
    "### The Pearson correlation of efficienty among biological repeats"
   ]
  },
  {
   "cell_type": "code",
   "execution_count": 1,
   "metadata": {},
   "outputs": [],
   "source": [
    "import os\n",
    "import pandas as pd\n",
    "import numpy as np\n",
    "import warnings\n",
    "warnings.filterwarnings(\"ignore\")\n",
    "\n",
    "figsuplix = 'pdf'"
   ]
  },
  {
   "cell_type": "code",
   "execution_count": 2,
   "metadata": {},
   "outputs": [],
   "source": [
    "def is_Exist_file(path):\n",
    "    import os\n",
    "    if os.path.exists(path):\n",
    "        os.remove(path)\n",
    "\n",
    "\n",
    "def mkdir(path):\n",
    "    import os\n",
    "    path = path.strip()  # 去除首位空格\n",
    "    path = path.rstrip(\"\\\\\")  # 去除尾部 \\ 符号\n",
    "    isExists = os.path.exists(path)  # 判断路径是否存在\n",
    "    # 判断结果\n",
    "    if not isExists:\n",
    "        os.makedirs(path)  # 如果不存在则创建目录\n",
    "        print(path + ' 创建成功')\n",
    "    else:\n",
    "        print(path + ' 目录已存在')  # 如果目录存在则不创建，并提示目录已存在"
   ]
  },
  {
   "cell_type": "code",
   "execution_count": 3,
   "metadata": {},
   "outputs": [],
   "source": [
    "## reads, barcode cutoff\n",
    "def data_preprocess(data, reads_cutoff, barcode_cutoff):\n",
    "    data = data.loc[(data['reads_num']>=reads_cutoff) & (data['barcode_num']>=barcode_cutoff), :]\n",
    "    data = data[['sgRNA_name', 'new_mutation', 'off-target_eff']]\n",
    "    data.reset_index(drop=True, inplace=True)\n",
    "    return data\n",
    "\n",
    "\n",
    "## computing off-target efficiency correlation between data1 and data2\n",
    "def copmuting_correlation(data1, data2, reads_cutoff, barcode_cutoff):\n",
    "    data1 = data_preprocess(data1, reads_cutoff, barcode_cutoff)\n",
    "    data2 = data_preprocess(data2, reads_cutoff, barcode_cutoff)\n",
    "    data = pd.merge(data1, data2, how='inner', on=['sgRNA_name', 'new_mutation'])\n",
    "    pear = data['off-target_eff_x'].corr(data['off-target_eff_y'], method='pearson')\n",
    "    spear = data['off-target_eff_x'].corr(data['off-target_eff_y'], method='spearman')\n",
    "    return (pear, spear)\n",
    "\n",
    "\n",
    "## plot correlation data between diffetent cell lines on off-target efficiency\n",
    "def plot_correlation(data_dict, reads_cutoff, barcode_cutoff):\n",
    "    stat_pearson_dict = {}\n",
    "    stat_spearman_dict = {}\n",
    "    # for reads_cutoff in [200, 400, 600, 800, 1000, 1200]:\n",
    "    for label1, data1 in data_dict.items():\n",
    "        stat_pearson_dict['cell line'] = []\n",
    "        stat_pearson_dict[label1] = []\n",
    "        stat_spearman_dict['cell line'] = []\n",
    "        stat_spearman_dict[label1] = []\n",
    "        for label2, data2 in data_dict.items():\n",
    "            pear, spear = copmuting_correlation(data1, data2, reads_cutoff, barcode_cutoff)\n",
    "            stat_pearson_dict['cell line'].append(label2)\n",
    "            stat_pearson_dict[label1].append(pear)\n",
    "            stat_spearman_dict['cell line'].append(label2)\n",
    "            stat_spearman_dict[label1].append(spear)\n",
    "    ## DataFrame\n",
    "    stat_pear = pd.DataFrame(stat_pearson_dict)\n",
    "    stat_spear = pd.DataFrame(stat_spearman_dict)\n",
    "#     stat_pear.to_excel(save_dir + \"/heatmap_correlation_off-target.xlsx\", index=False)\n",
    "    stat_pear.index = stat_pear['cell line'].tolist()\n",
    "    stat_spear.index = stat_spear['cell line'].tolist()\n",
    "    del stat_pear['cell line']\n",
    "    del stat_spear['cell line']\n",
    "    return (stat_pear, stat_spear)"
   ]
  },
  {
   "cell_type": "code",
   "execution_count": 4,
   "metadata": {},
   "outputs": [],
   "source": [
    "## plor heatmap correlation\n",
    "def plot_heatmap_correlation(corr_data, corr_label, save_dir):\n",
    "    ## 绘制 heatmap\n",
    "    import matplotlib.pyplot as plt\n",
    "    import seaborn as sns\n",
    "    #设置右上三角不绘制\n",
    "    plt.figure(figsize=(6.0, 4.0))\n",
    "\n",
    "    sns.set_style(\"white\")\n",
    "    #mask为 和相关系数矩阵xcorr一样大的 全0(False)矩阵\n",
    "    mask = np.zeros_like(corr_data, dtype=np.bool)\n",
    "    # 将mask右上三角(列号》=行号)设置为True\n",
    "    mask[np.triu_indices_from(mask)] = True\n",
    "    for i in range(mask.shape[0]):\n",
    "        mask[i, i] = False\n",
    "    #cmap是设置热图的颜色\n",
    "    cmap = sns.diverging_palette(220, 10, as_cmap=True)\n",
    "    #绘制热图\n",
    "    g = sns.heatmap(corr_data, mask=mask, cmap=cmap, square=True, annot=True, fmt='0.2f', vmin=0.0, vmax=1)\n",
    "#     g = sns.heatmap(corr_data, mask=mask, cmap=cmap, square=True, annot=True, fmt='0.2f', vmin=0.5, vmax=1)\n",
    "    #  xcorr : 数据矩阵\n",
    "    #  mask : 为True的元素对应位置不会画出来（mask面具的意义）\n",
    "    #  cmap: 颜色设置\n",
    "    #  square: （True）代表行列长度一致，且绘制的每个也是方格\n",
    "    #  annot ： 在格内显示数据\n",
    "    #  fmt ：数据格式\n",
    "    plt.xticks(rotation=90, weight='bold')\n",
    "    plt.yticks(rotation=0, weight='bold')\n",
    "\n",
    "    plt.title(\"The %s correlation\"%(corr_label), \n",
    "              fontsize=12, weight='bold')\n",
    "    mkdir(save_dir)\n",
    "#     save_path = save_dir + '/3_cell_lines-%s_off-target_correlation_between_cell_lines_r%sb%s.png'%(corr_label, \n",
    "#                                                                                        reads_cutoff, barcode_cutoff)\n",
    "    save_path = save_dir + '/3_cell_lines-%s_off-target_correlation_between_cell_lines_r%sb%s.%s'%(corr_label, \n",
    "                                                                                       reads_cutoff, barcode_cutoff, \n",
    "                                                                                                  figsuplix)\n",
    "    plt.savefig(save_path, dpi=300, bbox_inches='tight')\n",
    "    plt.show()\n",
    "####################################################"
   ]
  },
  {
   "cell_type": "code",
   "execution_count": null,
   "metadata": {},
   "outputs": [],
   "source": [
    "os"
   ]
  },
  {
   "cell_type": "code",
   "execution_count": null,
   "metadata": {},
   "outputs": [],
   "source": []
  }
 ],
 "metadata": {
  "kernelspec": {
   "display_name": "Python 3",
   "language": "python",
   "name": "python3"
  },
  "language_info": {
   "codemirror_mode": {
    "name": "ipython",
    "version": 3
   },
   "file_extension": ".py",
   "mimetype": "text/x-python",
   "name": "python",
   "nbconvert_exporter": "python",
   "pygments_lexer": "ipython3",
   "version": "3.6.13"
  }
 },
 "nbformat": 4,
 "nbformat_minor": 4
}
